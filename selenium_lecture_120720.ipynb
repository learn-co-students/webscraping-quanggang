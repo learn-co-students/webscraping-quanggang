{
 "cells": [
  {
   "cell_type": "markdown",
   "metadata": {},
   "source": [
    "# Selenium:"
   ]
  },
  {
   "cell_type": "markdown",
   "metadata": {},
   "source": [
    "## Learning Goals:"
   ]
  },
  {
   "cell_type": "markdown",
   "metadata": {},
   "source": [
    "- Able to install and setup Selenium\n",
    "- Able to login to website platform\n",
    "- Able to navigate through pages/pop-ups\n",
    "- Able to write scraper that is more \"human-like\"\n",
    "- Able to know when to use appropriate `find_element(s)_by...`\n",
    "- Able to acquire desired data"
   ]
  },
  {
   "cell_type": "markdown",
   "metadata": {},
   "source": [
    "---"
   ]
  },
  {
   "cell_type": "markdown",
   "metadata": {},
   "source": [
    "## First, head over to [this page](https://chromedriver.chromium.org/downloads) and locate the chromedriver that matches your chrome version."
   ]
  },
  {
   "cell_type": "markdown",
   "metadata": {},
   "source": [
    "**How to Find Your Internet Browser Version Number - Google Chrome.**\n",
    "\n",
    "1) Click on the Menu icon in the upper right corner of the screen. \n",
    "\n",
    "2) Click on Help, and then About Google Chrome. \n",
    "\n",
    "3) Your Chrome browser version number can be found here."
   ]
  },
  {
   "cell_type": "markdown",
   "metadata": {},
   "source": [
    "## Next, download the appropriate driver that matches your version of Chrome"
   ]
  },
  {
   "cell_type": "markdown",
   "metadata": {},
   "source": [
    "- After you have downloaded the driver, press `command` + `spacebar`\n",
    "- Inside of the spotlight search you just opened, type `/usr/local/bin/` and open that folder\n",
    "- Next, in a separate finder window (`command` + `n`), navigate to where you downloaded the `chromedriver`\n",
    "- Finally, move the `chromedriver` from where ever you downloaded it into your `/usr/local/bin/`\n",
    "\n",
    "*Technically, you can install the driver anywhere, but most tutorials I have read say to put it in `/usr/local/bin/`*\n",
    "\n",
    "...However, after a bit of research, I believe the reason we want to install the `chromedriver` inside of `/usr/local/bin/` is so that you don't have to explicitly state the chromedriver path when you instantiate your driver 😎 "
   ]
  },
  {
   "cell_type": "markdown",
   "metadata": {},
   "source": [
    "## Install Selenium if you have not already done so:\n",
    "\n",
    "If you can please use the Conda install, and I would suggest running it in terminal not jupyter"
   ]
  },
  {
   "cell_type": "code",
   "execution_count": null,
   "metadata": {
    "ExecuteTime": {
     "end_time": "2021-03-16T16:33:15.575888Z",
     "start_time": "2021-03-16T16:33:15.574113Z"
    }
   },
   "outputs": [],
   "source": [
    "#!conda install -c conda-forge selenium\n",
    "#or\n",
    "#!pip install selenium"
   ]
  },
  {
   "cell_type": "code",
   "execution_count": null,
   "metadata": {
    "ExecuteTime": {
     "end_time": "2021-03-16T18:19:31.625772Z",
     "start_time": "2021-03-16T18:19:31.620677Z"
    }
   },
   "outputs": [],
   "source": [
    "import re\n",
    "import os\n",
    "import time\n",
    "import random\n",
    "import requests\n",
    "import numpy as np\n",
    "import pandas as pd\n",
    "from os import system\n",
    "from math import floor\n",
    "from copy import deepcopy\n",
    "from bs4 import BeautifulSoup\n",
    "from selenium import webdriver\n",
    "from selenium.webdriver.common.by import By\n",
    "from selenium.webdriver.common.keys import Keys\n",
    "from selenium.common.exceptions import TimeoutException\n",
    "from selenium.webdriver.support.ui import WebDriverWait\n",
    "from selenium.webdriver.support import expected_conditions as EC"
   ]
  },
  {
   "cell_type": "code",
   "execution_count": null,
   "metadata": {
    "ExecuteTime": {
     "end_time": "2021-03-16T18:19:35.053847Z",
     "start_time": "2021-03-16T18:19:35.051725Z"
    }
   },
   "outputs": [],
   "source": [
    "pd.set_option('display.max_columns', 20)\n",
    "pd.set_option('display.max_colwidth', 200)"
   ]
  },
  {
   "cell_type": "markdown",
   "metadata": {},
   "source": [
    "---"
   ]
  },
  {
   "cell_type": "markdown",
   "metadata": {},
   "source": [
    "## DRIVER HERE:"
   ]
  },
  {
   "cell_type": "code",
   "execution_count": null,
   "metadata": {
    "ExecuteTime": {
     "end_time": "2021-03-16T18:27:03.675684Z",
     "start_time": "2021-03-16T18:27:01.564722Z"
    }
   },
   "outputs": [],
   "source": [
    "driver = webdriver.Chrome()"
   ]
  },
  {
   "cell_type": "markdown",
   "metadata": {},
   "source": [
    "---"
   ]
  },
  {
   "cell_type": "markdown",
   "metadata": {},
   "source": [
    "## Time to scrape!"
   ]
  },
  {
   "cell_type": "markdown",
   "metadata": {},
   "source": [
    "<img src = \"https://media1.tenor.com/images/3fd84ba4b54f8d299f7732e63cdb3c00/tenor.gif?itemid=11903546\" />"
   ]
  },
  {
   "cell_type": "markdown",
   "metadata": {},
   "source": [
    "### Visiting a webpage"
   ]
  },
  {
   "cell_type": "code",
   "execution_count": null,
   "metadata": {
    "ExecuteTime": {
     "end_time": "2021-03-16T18:27:14.609066Z",
     "start_time": "2021-03-16T18:27:09.810918Z"
    }
   },
   "outputs": [],
   "source": [
    "# Visit the website of your choice:\n",
    "my_url = 'https://www.espn.com'\n",
    "driver.get(my_url)"
   ]
  },
  {
   "cell_type": "markdown",
   "metadata": {},
   "source": [
    "#### Methods for finding a single element \n",
    "\n",
    "    This will return the FIRST instance of your desired \"element\"\n",
    "\n",
    "* find_element_by_id\n",
    "* find_element_by_name\n",
    "* find_element_by_xpath  \n",
    "* find_element_by_link_text\n",
    "* find_element_by_partial_link_text\n",
    "* find_element_by_tag_name\n",
    "* find_element_by_class_name\n",
    "* find_element_by_css_selector\n",
    "\n",
    "---\n",
    "\n",
    "#### Methods for finding multiple elements\n",
    "\n",
    "    This will return a list of ALL instances of your desired \"element\"\n",
    "\n",
    "* find_elements_by_name\n",
    "* find_elements_by_xpath\n",
    "* find_elements_by_link_text\n",
    "* find_elements_by_partial_link_text\n",
    "* find_elements_by_tag_name\n",
    "* find_elements_by_class_name\n",
    "* find_elements_by_css_selector\n",
    "\n",
    "From the [Selenium Python Docs](https://selenium-python.readthedocs.io/locating-elements.html \"Selenium Docs\") "
   ]
  },
  {
   "cell_type": "markdown",
   "metadata": {},
   "source": [
    "### Selecting the FIRST instance of an \"element\"\n",
    "\n",
    "First, well check out `.find_element_by_css_selector()`"
   ]
  },
  {
   "cell_type": "code",
   "execution_count": null,
   "metadata": {
    "ExecuteTime": {
     "end_time": "2021-03-16T18:27:15.163227Z",
     "start_time": "2021-03-16T18:27:15.145926Z"
    }
   },
   "outputs": [],
   "source": [
    "driver.find_element_by_css_selector('h1')\n",
    "\n"
   ]
  },
  {
   "cell_type": "code",
   "execution_count": null,
   "metadata": {
    "ExecuteTime": {
     "end_time": "2021-03-16T18:27:16.151931Z",
     "start_time": "2021-03-16T18:27:16.131231Z"
    }
   },
   "outputs": [],
   "source": [
    "driver.find_element_by_css_selector('h1').text"
   ]
  },
  {
   "cell_type": "markdown",
   "metadata": {},
   "source": [
    "### Selecting ALL instances of your desired \"element\""
   ]
  },
  {
   "cell_type": "code",
   "execution_count": null,
   "metadata": {
    "ExecuteTime": {
     "end_time": "2021-03-16T18:28:27.960533Z",
     "start_time": "2021-03-16T18:28:27.934736Z"
    }
   },
   "outputs": [],
   "source": [
    "listy = driver.find_elements_by_css_selector('h1')"
   ]
  },
  {
   "cell_type": "code",
   "execution_count": null,
   "metadata": {
    "ExecuteTime": {
     "end_time": "2021-03-16T18:28:29.623767Z",
     "start_time": "2021-03-16T18:28:29.438307Z"
    }
   },
   "outputs": [],
   "source": [
    "for x in listy[:15]:\n",
    "    if len(x.text) > 3:\n",
    "        print(x.text)"
   ]
  },
  {
   "cell_type": "markdown",
   "metadata": {},
   "source": [
    "---"
   ]
  },
  {
   "cell_type": "markdown",
   "metadata": {},
   "source": [
    "#### Closing the driver:"
   ]
  },
  {
   "cell_type": "markdown",
   "metadata": {},
   "source": [
    "If you were to just close your driver's browsing window, your Google chrome instance will still appear open in your mac's dock. Using `driver.quit()`, we can close the Google chrome instance, which will also close the driver's browser:"
   ]
  },
  {
   "cell_type": "code",
   "execution_count": null,
   "metadata": {
    "ExecuteTime": {
     "end_time": "2021-03-16T18:29:22.613839Z",
     "start_time": "2021-03-16T18:29:22.457299Z"
    }
   },
   "outputs": [],
   "source": [
    "driver.quit()"
   ]
  },
  {
   "cell_type": "markdown",
   "metadata": {},
   "source": [
    "#### Timing"
   ]
  },
  {
   "cell_type": "markdown",
   "metadata": {},
   "source": [
    "Sometimes we will need to wait for the page to load. Other times, we may want to have our scraper act more like a human, in terms of \"click rate.\"\n",
    "\n",
    "Two possible ways to make this happen are by using `time.sleep()` or `WebDriverWait()`"
   ]
  },
  {
   "cell_type": "markdown",
   "metadata": {},
   "source": [
    "If we just want to mimic the behavior of a human, we can use `time.sleep()`:"
   ]
  },
  {
   "cell_type": "code",
   "execution_count": null,
   "metadata": {
    "ExecuteTime": {
     "end_time": "2021-03-16T18:29:42.076910Z",
     "start_time": "2021-03-16T18:29:40.069659Z"
    }
   },
   "outputs": [],
   "source": [
    "# Using a single \"wait\" time:\n",
    "\n",
    "time.sleep(5)"
   ]
  },
  {
   "cell_type": "code",
   "execution_count": null,
   "metadata": {
    "ExecuteTime": {
     "end_time": "2021-03-16T18:32:17.732665Z",
     "start_time": "2021-03-16T18:32:16.524823Z"
    }
   },
   "outputs": [],
   "source": [
    "# Using a randomized time:\n",
    "\n",
    "sequence = [x/10 for x in range(8, 14)]\n",
    "print(sequence)\n",
    "\n",
    "time.sleep(random.choice(sequence))"
   ]
  },
  {
   "cell_type": "code",
   "execution_count": null,
   "metadata": {},
   "outputs": [],
   "source": [
    "driver = webdriver.Chrome()"
   ]
  },
  {
   "cell_type": "markdown",
   "metadata": {},
   "source": [
    "If we explicitly want to wait for our page to load, we can use `WebDriverWait()`:"
   ]
  },
  {
   "cell_type": "code",
   "execution_count": null,
   "metadata": {
    "ExecuteTime": {
     "end_time": "2021-03-16T16:34:49.481955Z",
     "start_time": "2021-03-16T16:34:49.444805Z"
    }
   },
   "outputs": [],
   "source": [
    "wait = WebDriverWait(driver, 5)\n",
    "\n",
    "try:\n",
    "    page_loaded = wait.until(lambda driver: driver.current_url == 'https://www.espn.com/')\n",
    "    print('The page loaded correctly')\n",
    "except TimeoutException:\n",
    "    print(\"Loading timeout expired\")"
   ]
  },
  {
   "cell_type": "markdown",
   "metadata": {},
   "source": [
    "#### Wait a second... what is that `xpath` thing?"
   ]
  },
  {
   "cell_type": "markdown",
   "metadata": {},
   "source": [
    "XPath is defined as XML path. It is a syntax or language for finding any element on the web page using XML path expression. XPath is used to find the location of any element on a webpage using HTML DOM structure. The basic format of XPath is explained below with screen shot."
   ]
  },
  {
   "cell_type": "markdown",
   "metadata": {},
   "source": [
    "<img src='https://www.guru99.com/images/3-2016/032816_0758_XPathinSele1.png' >"
   ]
  },
  {
   "cell_type": "markdown",
   "metadata": {},
   "source": [
    "XPath contains the path of the element situated at the web page. Standard syntax for creating XPath is:\n",
    "\n",
    "`Xpath=//tagname[@attribute='value']`\n",
    "\n",
    "- // == Select current node.\n",
    "- Tagname == Tagname of the particular node.\n",
    "- @ == Select attribute.\n",
    "- Attribute == Attribute name of the node.\n",
    "- Value == Value of the attribute."
   ]
  },
  {
   "cell_type": "markdown",
   "metadata": {},
   "source": [
    "<img src='https://media1.giphy.com/media/XBpEStoQ5rftPFA8rh/giphy.gif?cid=790b7611dbcd651cd785fb8382888f7b41666d5c8695755b&rid=giphy.gif'>"
   ]
  },
  {
   "cell_type": "code",
   "execution_count": null,
   "metadata": {},
   "outputs": [],
   "source": [
    "driver.find_element_by_xpath('//*[@id=\"news-feed\"]/section[1]/header/a/div[1]/div/div[2]/span').text\n",
    "\n"
   ]
  },
  {
   "cell_type": "markdown",
   "metadata": {},
   "source": [
    "# Modal buttons and scrolling:"
   ]
  },
  {
   "cell_type": "code",
   "execution_count": null,
   "metadata": {
    "ExecuteTime": {
     "end_time": "2021-03-16T18:34:00.731736Z",
     "start_time": "2021-03-16T18:33:58.647656Z"
    }
   },
   "outputs": [],
   "source": [
    "driver = webdriver.Chrome()"
   ]
  },
  {
   "cell_type": "code",
   "execution_count": null,
   "metadata": {
    "ExecuteTime": {
     "end_time": "2021-03-16T18:34:09.080573Z",
     "start_time": "2021-03-16T18:34:07.536523Z"
    }
   },
   "outputs": [],
   "source": [
    "# These websites have modal popups:\n",
    "\n",
    "driver.get('https://nike.com')\n",
    "\n",
    "# Other options:\n",
    "# https://www.meundies.com"
   ]
  },
  {
   "cell_type": "markdown",
   "metadata": {},
   "source": [
    "The following cell is an example of how you can click on buttons and scroll down the page (for dynamic loading)."
   ]
  },
  {
   "cell_type": "code",
   "execution_count": null,
   "metadata": {},
   "outputs": [],
   "source": [
    "modal_button = driver.find_element_by_xpath('//*[@id=\"gen-nav-commerce-header-v2\"]/div[3]/header/div/div[1]/div[2]/nav/div[2]/ul/li[2]/a')\n",
    "webdriver.ActionChains(driver).move_to_element(modal_button).click(modal_button).perform()"
   ]
  },
  {
   "cell_type": "code",
   "execution_count": null,
   "metadata": {},
   "outputs": [],
   "source": [
    "driver.execute_script(\"window.scrollTo(0,document.body.scrollHeight)\")"
   ]
  },
  {
   "cell_type": "code",
   "execution_count": null,
   "metadata": {
    "ExecuteTime": {
     "end_time": "2021-03-16T18:35:09.837192Z",
     "start_time": "2021-03-16T18:35:09.709182Z"
    }
   },
   "outputs": [],
   "source": [
    "driver.quit()"
   ]
  },
  {
   "cell_type": "markdown",
   "metadata": {},
   "source": [
    "## When to use BeautifulSoup vs.  Selenium?"
   ]
  },
  {
   "cell_type": "markdown",
   "metadata": {},
   "source": [
    "Everything depends on the website and your data goals.\n",
    "\n",
    "In general:\n",
    "- If the data needs to be exposed interactively, then go for Selenium. \n",
    "- Selenium for more complex JavaScript heavy pages. \n",
    "---\n",
    "- If the data is accessible in the HTML structure (more static pages), soup is a more lightweight tool. \n",
    "- Soup gives you more control about navigating the HTML tree."
   ]
  },
  {
   "cell_type": "code",
   "execution_count": null,
   "metadata": {
    "ExecuteTime": {
     "end_time": "2021-03-16T18:43:53.189502Z",
     "start_time": "2021-03-16T18:43:52.911419Z"
    }
   },
   "outputs": [],
   "source": [
    "html = requests.get('https://www.skysports.com/premier-league-table')\n",
    "bs = BeautifulSoup(html.content, 'lxml')\n",
    "#table = bs.table\n",
    "table = bs.find('table')\n"
   ]
  },
  {
   "cell_type": "code",
   "execution_count": null,
   "metadata": {
    "ExecuteTime": {
     "end_time": "2021-03-16T18:45:16.907823Z",
     "start_time": "2021-03-16T18:45:16.901380Z"
    }
   },
   "outputs": [],
   "source": [
    "table_rows = table.find_all('tr')\n",
    "\n",
    "for tr in table_rows:\n",
    "    td = tr.find_all('td')\n",
    "    row = [i.text for i in td]\n",
    "    print(row)"
   ]
  },
  {
   "cell_type": "code",
   "execution_count": null,
   "metadata": {
    "ExecuteTime": {
     "end_time": "2021-03-16T18:45:58.689382Z",
     "start_time": "2021-03-16T18:45:58.525698Z"
    }
   },
   "outputs": [],
   "source": [
    "html = requests.get('https://www.skysports.com/premier-league-table')\n",
    "bs = BeautifulSoup(html.content, 'lxml')\n",
    "table = bs.table\n",
    "\n",
    "#If you know there is more than one table, you can edit the code to include the proper index:\n",
    "# table = bs.find_all('table')[0] \n",
    "\n",
    "df = pd.read_html(str(table), index_col='Team')\n",
    "df = df[0].dropna(axis=0, thresh=4)\n",
    "df"
   ]
  },
  {
   "cell_type": "markdown",
   "metadata": {},
   "source": [
    "#### Adjusting the header and index:\n",
    "\n",
    "- Caveat: this uses pandas, not Selenium or Soup"
   ]
  },
  {
   "cell_type": "markdown",
   "metadata": {},
   "source": [
    "If there is more than one table, pandas reads the html as a list of tables:"
   ]
  },
  {
   "cell_type": "code",
   "execution_count": null,
   "metadata": {
    "ExecuteTime": {
     "end_time": "2021-03-16T18:46:49.931872Z",
     "start_time": "2021-03-16T18:46:49.677584Z"
    }
   },
   "outputs": [],
   "source": [
    "df2 = pd.read_html('https://www.sportsmole.co.uk/football/premier-league/2018-19/')\n",
    "\n",
    "df2"
   ]
  },
  {
   "cell_type": "code",
   "execution_count": null,
   "metadata": {
    "ExecuteTime": {
     "end_time": "2021-03-16T18:46:52.305250Z",
     "start_time": "2021-03-16T18:46:52.291606Z"
    }
   },
   "outputs": [],
   "source": [
    "# Let's check out one of our tables:\n",
    "\n",
    "df2[0]"
   ]
  },
  {
   "cell_type": "markdown",
   "metadata": {},
   "source": [
    "As we can see above, the table's formatting is slightly off...\n",
    "\n",
    "So we can make adjustments like so:"
   ]
  },
  {
   "cell_type": "code",
   "execution_count": null,
   "metadata": {
    "ExecuteTime": {
     "end_time": "2021-03-16T18:47:01.534678Z",
     "start_time": "2021-03-16T18:47:01.373841Z"
    }
   },
   "outputs": [],
   "source": [
    "df2 = pd.read_html('https://www.sportsmole.co.uk/football/premier-league/2018-19/',header=0, index_col=1)\n",
    "\n",
    "df2[0].columns =  ['final_standings', 'P', 'W', 'D', 'L', 'F', 'A', 'GD', 'PTS']\n",
    "\n",
    "df2[0]"
   ]
  },
  {
   "cell_type": "markdown",
   "metadata": {},
   "source": [
    "---"
   ]
  },
  {
   "cell_type": "markdown",
   "metadata": {},
   "source": [
    "### The best example of when Selenium is supreme:\n",
    "\n",
    "When the page is written in JavaScript"
   ]
  },
  {
   "cell_type": "code",
   "execution_count": null,
   "metadata": {
    "ExecuteTime": {
     "end_time": "2021-03-16T18:50:15.064166Z",
     "start_time": "2021-03-16T18:50:14.956428Z"
    }
   },
   "outputs": [],
   "source": [
    "html = requests.get('http://www.tennisabstract.com/cgi-bin/player.cgi?p=RogerFederer')\n",
    "bs = BeautifulSoup(html.content, 'lxml')\n",
    "table = bs.table\n",
    "\n",
    "table = bs.find(lambda tag: tag.name=='table' ) \n",
    "rows = table.findAll(lambda tag: tag.name=='tr')\n"
   ]
  },
  {
   "cell_type": "code",
   "execution_count": null,
   "metadata": {
    "ExecuteTime": {
     "end_time": "2021-03-16T18:50:15.465802Z",
     "start_time": "2021-03-16T18:50:15.455341Z"
    }
   },
   "outputs": [],
   "source": [
    "bs.find_all('tr')\n",
    "\n"
   ]
  },
  {
   "cell_type": "code",
   "execution_count": null,
   "metadata": {
    "ExecuteTime": {
     "end_time": "2021-03-16T18:50:24.527866Z",
     "start_time": "2021-03-16T18:50:22.383003Z"
    }
   },
   "outputs": [],
   "source": [
    "url = \"http://www.tennisabstract.com/cgi-bin/player.cgi?p=RogerFederer\"\n",
    "driver = webdriver.Chrome()"
   ]
  },
  {
   "cell_type": "code",
   "execution_count": null,
   "metadata": {
    "ExecuteTime": {
     "end_time": "2021-03-16T18:50:33.458885Z",
     "start_time": "2021-03-16T18:50:32.427107Z"
    }
   },
   "outputs": [],
   "source": [
    "driver.get(url)"
   ]
  },
  {
   "cell_type": "code",
   "execution_count": null,
   "metadata": {
    "ExecuteTime": {
     "end_time": "2021-03-16T18:51:07.397258Z",
     "start_time": "2021-03-16T18:51:07.387035Z"
    }
   },
   "outputs": [],
   "source": [
    "table = driver.find_element_by_id(\"recent-results\")"
   ]
  },
  {
   "cell_type": "code",
   "execution_count": null,
   "metadata": {
    "ExecuteTime": {
     "end_time": "2021-03-16T18:51:08.718817Z",
     "start_time": "2021-03-16T18:51:08.650383Z"
    }
   },
   "outputs": [],
   "source": [
    "table.text"
   ]
  },
  {
   "cell_type": "code",
   "execution_count": null,
   "metadata": {
    "ExecuteTime": {
     "end_time": "2021-03-16T18:51:13.745500Z",
     "start_time": "2021-03-16T18:51:13.735774Z"
    }
   },
   "outputs": [],
   "source": [
    "body = table.find_element_by_css_selector('tbody')"
   ]
  },
  {
   "cell_type": "code",
   "execution_count": null,
   "metadata": {
    "ExecuteTime": {
     "end_time": "2021-03-16T18:51:49.232976Z",
     "start_time": "2021-03-16T18:51:49.222746Z"
    }
   },
   "outputs": [],
   "source": [
    "# Table rows usually have the css tag 'tr'\n",
    "rows = body.find_elements_by_css_selector('tr')"
   ]
  },
  {
   "cell_type": "code",
   "execution_count": null,
   "metadata": {
    "ExecuteTime": {
     "end_time": "2021-03-16T18:52:02.563698Z",
     "start_time": "2021-03-16T18:52:02.322042Z"
    }
   },
   "outputs": [],
   "source": [
    "[x.text for x in rows]"
   ]
  },
  {
   "cell_type": "code",
   "execution_count": null,
   "metadata": {
    "ExecuteTime": {
     "end_time": "2021-03-16T18:53:05.875333Z",
     "start_time": "2021-03-16T18:53:05.872553Z"
    }
   },
   "outputs": [],
   "source": [
    "rows[0]"
   ]
  },
  {
   "cell_type": "code",
   "execution_count": null,
   "metadata": {
    "ExecuteTime": {
     "end_time": "2021-03-16T16:51:23.900582Z",
     "start_time": "2021-03-16T16:51:23.890761Z"
    }
   },
   "outputs": [],
   "source": [
    "#allows us to look at the HTML inside the selenium object\n",
    "rows[0].get_attribute('innerHTML')"
   ]
  },
  {
   "cell_type": "code",
   "execution_count": null,
   "metadata": {
    "ExecuteTime": {
     "end_time": "2021-03-16T18:53:15.514760Z",
     "start_time": "2021-03-16T18:53:15.504766Z"
    }
   },
   "outputs": [],
   "source": [
    "row_data = rows[0].find_elements_by_css_selector('td')"
   ]
  },
  {
   "cell_type": "code",
   "execution_count": null,
   "metadata": {
    "ExecuteTime": {
     "end_time": "2021-03-16T18:53:31.204544Z",
     "start_time": "2021-03-16T18:53:31.062374Z"
    }
   },
   "outputs": [],
   "source": [
    "for e in row_data: \n",
    "    print(e.text)"
   ]
  },
  {
   "cell_type": "code",
   "execution_count": null,
   "metadata": {
    "ExecuteTime": {
     "end_time": "2021-03-16T18:53:40.136809Z",
     "start_time": "2021-03-16T18:53:37.308230Z"
    }
   },
   "outputs": [],
   "source": [
    "data_list = []\n",
    "for r in rows: \n",
    "    row_list = []\n",
    "    row_data = r.find_elements_by_css_selector('td')\n",
    "    for d in row_data: \n",
    "        row_list.append(d.text)\n",
    "    data_list.append(row_list)"
   ]
  },
  {
   "cell_type": "code",
   "execution_count": null,
   "metadata": {
    "ExecuteTime": {
     "end_time": "2021-03-16T18:53:41.001701Z",
     "start_time": "2021-03-16T18:53:40.998774Z"
    }
   },
   "outputs": [],
   "source": [
    "data_list[10]"
   ]
  },
  {
   "cell_type": "code",
   "execution_count": null,
   "metadata": {
    "ExecuteTime": {
     "end_time": "2021-03-16T18:53:45.877509Z",
     "start_time": "2021-03-16T18:53:45.874590Z"
    }
   },
   "outputs": [],
   "source": [
    "len(data_list[10])"
   ]
  },
  {
   "cell_type": "code",
   "execution_count": null,
   "metadata": {
    "ExecuteTime": {
     "end_time": "2021-03-16T18:54:15.518312Z",
     "start_time": "2021-03-16T18:54:15.493654Z"
    }
   },
   "outputs": [],
   "source": [
    "headers = table.find_element_by_css_selector('thead')\n",
    "headers.text"
   ]
  },
  {
   "cell_type": "code",
   "execution_count": null,
   "metadata": {
    "ExecuteTime": {
     "end_time": "2021-03-16T18:54:17.020309Z",
     "start_time": "2021-03-16T18:54:16.996235Z"
    }
   },
   "outputs": [],
   "source": [
    "columns = headers.text.split(' ')\n",
    "print(columns)"
   ]
  },
  {
   "cell_type": "code",
   "execution_count": null,
   "metadata": {
    "ExecuteTime": {
     "end_time": "2021-03-16T18:54:18.342020Z",
     "start_time": "2021-03-16T18:54:18.338629Z"
    }
   },
   "outputs": [],
   "source": [
    "print('Number of columns:     '+ str(len(columns)))\n",
    "print()\n",
    "print('Number of data points: '+ str(len(data_list[0])))"
   ]
  },
  {
   "cell_type": "code",
   "execution_count": null,
   "metadata": {
    "ExecuteTime": {
     "end_time": "2021-03-16T18:54:27.874576Z",
     "start_time": "2021-03-16T18:54:27.872332Z"
    }
   },
   "outputs": [],
   "source": [
    "columns = ['Date','Tournament','Surface','Rd','Rk','vRk', \n",
    "           'Opponent','Score','DR','A%','DF%','1stIn',\n",
    "           '1st%','2nd%','BPSvd','Time']"
   ]
  },
  {
   "cell_type": "code",
   "execution_count": null,
   "metadata": {
    "ExecuteTime": {
     "end_time": "2021-03-16T18:54:28.298581Z",
     "start_time": "2021-03-16T18:54:28.295600Z"
    }
   },
   "outputs": [],
   "source": [
    "print(data_list[0])"
   ]
  },
  {
   "cell_type": "code",
   "execution_count": null,
   "metadata": {
    "ExecuteTime": {
     "end_time": "2021-03-16T18:54:44.263457Z",
     "start_time": "2021-03-16T18:54:44.259878Z"
    }
   },
   "outputs": [],
   "source": [
    "federer_h2h = pd.DataFrame(data_list[1:], columns=columns)"
   ]
  },
  {
   "cell_type": "code",
   "execution_count": null,
   "metadata": {
    "ExecuteTime": {
     "end_time": "2021-03-16T18:54:44.806122Z",
     "start_time": "2021-03-16T18:54:44.792299Z"
    }
   },
   "outputs": [],
   "source": [
    "federer_h2h.head()"
   ]
  },
  {
   "cell_type": "markdown",
   "metadata": {},
   "source": [
    "- A slightly different approach:"
   ]
  },
  {
   "cell_type": "markdown",
   "metadata": {},
   "source": [
    "## Some other neat stuff:"
   ]
  },
  {
   "cell_type": "code",
   "execution_count": null,
   "metadata": {
    "ExecuteTime": {
     "end_time": "2021-03-16T18:55:17.998343Z",
     "start_time": "2021-03-16T18:55:10.316734Z"
    }
   },
   "outputs": [],
   "source": [
    "# Let's take a screenshot! \n",
    "\n",
    "driver.get('https://www.nytimes.com')\n",
    "\n",
    "driver.get_screenshot_as_file('ny_times_front_pg.png')\n",
    "\n",
    "driver.quit()"
   ]
  },
  {
   "cell_type": "code",
   "execution_count": null,
   "metadata": {},
   "outputs": [],
   "source": [
    "!ls"
   ]
  },
  {
   "cell_type": "markdown",
   "metadata": {},
   "source": [
    "# IMDB\n",
    "Example using click and send keys"
   ]
  },
  {
   "cell_type": "code",
   "execution_count": null,
   "metadata": {
    "ExecuteTime": {
     "end_time": "2021-03-16T18:58:18.496078Z",
     "start_time": "2021-03-16T18:58:18.494145Z"
    }
   },
   "outputs": [],
   "source": [
    "url = 'https://www.imdb.com/'"
   ]
  },
  {
   "cell_type": "code",
   "execution_count": null,
   "metadata": {
    "ExecuteTime": {
     "end_time": "2021-03-16T18:58:22.302724Z",
     "start_time": "2021-03-16T18:58:20.222597Z"
    }
   },
   "outputs": [],
   "source": [
    "driver = webdriver.Chrome()"
   ]
  },
  {
   "cell_type": "code",
   "execution_count": null,
   "metadata": {
    "ExecuteTime": {
     "end_time": "2021-03-16T18:58:33.311986Z",
     "start_time": "2021-03-16T18:58:29.052220Z"
    }
   },
   "outputs": [],
   "source": [
    "driver.get(url)"
   ]
  },
  {
   "cell_type": "code",
   "execution_count": null,
   "metadata": {
    "ExecuteTime": {
     "end_time": "2021-03-16T18:58:46.789071Z",
     "start_time": "2021-03-16T18:58:46.776038Z"
    }
   },
   "outputs": [],
   "source": [
    "search_bar = driver.find_element_by_xpath('//*[@id=\"suggestion-search\"]')"
   ]
  },
  {
   "cell_type": "code",
   "execution_count": null,
   "metadata": {
    "ExecuteTime": {
     "end_time": "2021-03-16T18:59:02.469070Z",
     "start_time": "2021-03-16T18:59:02.066447Z"
    }
   },
   "outputs": [],
   "source": [
    "search_bar.send_keys('Ready Player One')"
   ]
  },
  {
   "cell_type": "code",
   "execution_count": null,
   "metadata": {
    "ExecuteTime": {
     "end_time": "2021-03-16T19:00:02.271062Z",
     "start_time": "2021-03-16T18:59:59.977770Z"
    }
   },
   "outputs": [],
   "source": [
    "search_bar.send_keys(Keys.ENTER)"
   ]
  },
  {
   "cell_type": "code",
   "execution_count": null,
   "metadata": {
    "ExecuteTime": {
     "end_time": "2021-03-16T19:01:09.517095Z",
     "start_time": "2021-03-16T19:01:09.377678Z"
    }
   },
   "outputs": [],
   "source": [
    "rp1 = [x.find_element_by_tag_name('a').get_attribute('href') for x in driver.find_elements_by_class_name('result_text')][0]"
   ]
  },
  {
   "cell_type": "code",
   "execution_count": null,
   "metadata": {
    "ExecuteTime": {
     "end_time": "2021-03-16T19:01:16.579335Z",
     "start_time": "2021-03-16T19:01:16.575983Z"
    }
   },
   "outputs": [],
   "source": [
    "rp1"
   ]
  },
  {
   "cell_type": "code",
   "execution_count": null,
   "metadata": {
    "ExecuteTime": {
     "end_time": "2021-03-16T19:01:25.046738Z",
     "start_time": "2021-03-16T19:01:20.800051Z"
    }
   },
   "outputs": [],
   "source": [
    "driver.get(rp1)"
   ]
  },
  {
   "cell_type": "code",
   "execution_count": null,
   "metadata": {
    "ExecuteTime": {
     "end_time": "2021-03-16T19:02:16.835007Z",
     "start_time": "2021-03-16T19:02:16.798773Z"
    }
   },
   "outputs": [],
   "source": [
    "f = driver.find_element_by_class_name('title_block').text.split('\\n')"
   ]
  },
  {
   "cell_type": "code",
   "execution_count": null,
   "metadata": {
    "ExecuteTime": {
     "end_time": "2021-03-16T19:02:17.617717Z",
     "start_time": "2021-03-16T19:02:17.612816Z"
    }
   },
   "outputs": [],
   "source": [
    "f"
   ]
  },
  {
   "cell_type": "code",
   "execution_count": null,
   "metadata": {
    "ExecuteTime": {
     "end_time": "2021-03-16T19:02:21.371390Z",
     "start_time": "2021-03-16T19:02:21.369367Z"
    }
   },
   "outputs": [],
   "source": [
    "keys = ['star_rating','num_reviews','Title','rating','length','Genres','Release']"
   ]
  },
  {
   "cell_type": "code",
   "execution_count": null,
   "metadata": {
    "ExecuteTime": {
     "end_time": "2021-03-16T19:02:42.111908Z",
     "start_time": "2021-03-16T19:02:42.108728Z"
    }
   },
   "outputs": [],
   "source": [
    "f = f[:-1] + f[-1].split(' | ')\n",
    "f.pop(2)\n",
    "f"
   ]
  },
  {
   "cell_type": "code",
   "execution_count": null,
   "metadata": {
    "ExecuteTime": {
     "end_time": "2021-03-16T19:02:44.384342Z",
     "start_time": "2021-03-16T19:02:44.380891Z"
    }
   },
   "outputs": [],
   "source": [
    "dict(zip(keys,f))"
   ]
  },
  {
   "cell_type": "markdown",
   "metadata": {},
   "source": [
    "## Find reviews for a list of movies"
   ]
  },
  {
   "cell_type": "code",
   "execution_count": null,
   "metadata": {
    "ExecuteTime": {
     "end_time": "2021-03-14T20:22:58.351416Z",
     "start_time": "2021-03-14T20:22:58.325338Z"
    }
   },
   "outputs": [],
   "source": [
    "#get url for reviews by class name and use driver.get\n",
    "reviews = driver.find_element_by_class_name('user-comments')\n",
    "reviews.find_elements_by_tag_name('a')[-1].get_attribute('href')"
   ]
  },
  {
   "cell_type": "code",
   "execution_count": null,
   "metadata": {},
   "outputs": [],
   "source": [
    "reviews.find_elements_by_tag_name('a')[-1].get_attribute('href')"
   ]
  },
  {
   "cell_type": "code",
   "execution_count": null,
   "metadata": {
    "ExecuteTime": {
     "end_time": "2021-03-16T19:04:58.603697Z",
     "start_time": "2021-03-16T19:04:55.157778Z"
    }
   },
   "outputs": [],
   "source": [
    "#or find url by xpath and click on that button\n",
    "driver.find_element_by_xpath('//*[@id=\"titleUserReviewsTeaser\"]/div/a[2]').click()"
   ]
  },
  {
   "cell_type": "code",
   "execution_count": null,
   "metadata": {
    "ExecuteTime": {
     "end_time": "2021-03-16T19:06:23.395669Z",
     "start_time": "2021-03-16T19:06:23.383487Z"
    }
   },
   "outputs": [],
   "source": [
    "#Lets pull out 1 review and get each item, then we can put it in a loop\n",
    "x = driver.find_elements_by_class_name('review-container')[0]"
   ]
  },
  {
   "cell_type": "code",
   "execution_count": null,
   "metadata": {
    "ExecuteTime": {
     "end_time": "2021-03-16T19:06:23.845641Z",
     "start_time": "2021-03-16T19:06:23.821764Z"
    }
   },
   "outputs": [],
   "source": [
    "#get rating\n",
    "x.find_element_by_tag_name('span').text"
   ]
  },
  {
   "cell_type": "code",
   "execution_count": null,
   "metadata": {
    "ExecuteTime": {
     "end_time": "2021-03-16T19:06:24.941700Z",
     "start_time": "2021-03-16T19:06:24.922132Z"
    }
   },
   "outputs": [],
   "source": [
    "#get title\n",
    "x.find_element_by_class_name('title').text"
   ]
  },
  {
   "cell_type": "code",
   "execution_count": null,
   "metadata": {
    "ExecuteTime": {
     "end_time": "2021-03-16T19:06:37.664432Z",
     "start_time": "2021-03-16T19:06:37.645465Z"
    }
   },
   "outputs": [],
   "source": [
    "#get date\n",
    "x.find_element_by_class_name('review-date').text"
   ]
  },
  {
   "cell_type": "code",
   "execution_count": null,
   "metadata": {
    "ExecuteTime": {
     "end_time": "2021-03-16T19:06:49.076134Z",
     "start_time": "2021-03-16T19:06:49.054700Z"
    }
   },
   "outputs": [],
   "source": [
    "#get the review\n",
    "x.find_element_by_class_name('content').text"
   ]
  },
  {
   "cell_type": "code",
   "execution_count": null,
   "metadata": {
    "ExecuteTime": {
     "end_time": "2021-03-16T19:07:01.079034Z",
     "start_time": "2021-03-16T19:06:59.359881Z"
    }
   },
   "outputs": [],
   "source": [
    "#now lets put it in a loop\n",
    "data = []\n",
    "keys = ['rating','title','date','review']\n",
    "reviews = driver.find_elements_by_class_name('review-container')\n",
    "for review in reviews:\n",
    "    lst = [review.find_element_by_tag_name('span').text,\n",
    "    review.find_element_by_class_name('title').text,\n",
    "    review.find_element_by_class_name('review-date').text,\n",
    "    review.find_element_by_class_name('content').text]\n",
    "    data.append(dict(zip(keys,lst)))"
   ]
  },
  {
   "cell_type": "code",
   "execution_count": null,
   "metadata": {
    "ExecuteTime": {
     "end_time": "2021-03-16T19:07:03.361191Z",
     "start_time": "2021-03-16T19:07:03.355956Z"
    }
   },
   "outputs": [],
   "source": [
    "data"
   ]
  },
  {
   "cell_type": "markdown",
   "metadata": {},
   "source": [
    "## Beautiful Soup Version"
   ]
  },
  {
   "cell_type": "code",
   "execution_count": null,
   "metadata": {
    "ExecuteTime": {
     "end_time": "2021-03-16T19:08:59.964486Z",
     "start_time": "2021-03-16T19:08:59.759607Z"
    }
   },
   "outputs": [],
   "source": [
    "resp = requests.get('https://www.imdb.com/title/tt0360717/reviews?ref_=tt_urv')"
   ]
  },
  {
   "cell_type": "code",
   "execution_count": null,
   "metadata": {
    "ExecuteTime": {
     "end_time": "2021-03-16T19:09:00.829690Z",
     "start_time": "2021-03-16T19:09:00.732403Z"
    }
   },
   "outputs": [],
   "source": [
    "bs = BeautifulSoup(resp.content, 'html.parser')"
   ]
  },
  {
   "cell_type": "code",
   "execution_count": null,
   "metadata": {
    "ExecuteTime": {
     "end_time": "2021-03-16T19:09:01.671847Z",
     "start_time": "2021-03-16T19:09:01.647728Z"
    }
   },
   "outputs": [],
   "source": [
    "[x.text for x in bs.findAll(class_='content')]"
   ]
  },
  {
   "cell_type": "code",
   "execution_count": null,
   "metadata": {
    "ExecuteTime": {
     "end_time": "2021-03-16T19:09:34.581323Z",
     "start_time": "2021-03-16T19:09:34.330860Z"
    }
   },
   "outputs": [],
   "source": [
    "driver.quit()"
   ]
  },
  {
   "cell_type": "markdown",
   "metadata": {},
   "source": [
    "# YELP\n",
    "Using beautiful soup to parse list of urls"
   ]
  },
  {
   "cell_type": "code",
   "execution_count": null,
   "metadata": {
    "ExecuteTime": {
     "end_time": "2021-03-16T19:10:28.065103Z",
     "start_time": "2021-03-16T19:10:24.379538Z"
    }
   },
   "outputs": [],
   "source": [
    "resp = requests.get('https://www.yelp.com/biz/bushwick-grind-cafe-brooklyn-2?adjust_creative=XCA5Kc7RlIdeGhJ7qoZSYA&utm_campaign=yelp_api_v3&utm_medium=api_v3_business_search&utm_source=XCA5Kc7RlIdeGhJ7qoZSYA')"
   ]
  },
  {
   "cell_type": "code",
   "execution_count": null,
   "metadata": {
    "ExecuteTime": {
     "end_time": "2021-03-16T19:10:28.636641Z",
     "start_time": "2021-03-16T19:10:28.466280Z"
    }
   },
   "outputs": [],
   "source": [
    "bs = BeautifulSoup(resp.content, 'html.parser')"
   ]
  },
  {
   "cell_type": "code",
   "execution_count": null,
   "metadata": {
    "ExecuteTime": {
     "end_time": "2021-03-16T19:15:54.057362Z",
     "start_time": "2021-03-16T19:15:54.010022Z"
    }
   },
   "outputs": [],
   "source": [
    "x = bs.findAll(class_='margin-b5__373c0__2ErL8')"
   ]
  },
  {
   "cell_type": "code",
   "execution_count": null,
   "metadata": {
    "ExecuteTime": {
     "end_time": "2021-03-16T19:15:59.390358Z",
     "start_time": "2021-03-16T19:15:59.387672Z"
    }
   },
   "outputs": [],
   "source": [
    "len(x)"
   ]
  },
  {
   "cell_type": "code",
   "execution_count": null,
   "metadata": {
    "ExecuteTime": {
     "end_time": "2021-03-16T19:14:31.600977Z",
     "start_time": "2021-03-16T19:14:31.599119Z"
    }
   },
   "outputs": [],
   "source": [
    "x = x[1]"
   ]
  },
  {
   "cell_type": "code",
   "execution_count": null,
   "metadata": {
    "ExecuteTime": {
     "end_time": "2021-03-16T19:14:32.203090Z",
     "start_time": "2021-03-16T19:14:32.199928Z"
    }
   },
   "outputs": [],
   "source": [
    "x.find(class_='css-n6i4z7').text"
   ]
  },
  {
   "cell_type": "code",
   "execution_count": null,
   "metadata": {
    "ExecuteTime": {
     "end_time": "2021-03-16T19:15:38.934938Z",
     "start_time": "2021-03-16T19:15:38.931475Z"
    }
   },
   "outputs": [],
   "source": [
    "x.find(class_='css-e81eai').text"
   ]
  },
  {
   "cell_type": "code",
   "execution_count": null,
   "metadata": {
    "ExecuteTime": {
     "end_time": "2021-03-16T19:15:40.174397Z",
     "start_time": "2021-03-16T19:15:40.171063Z"
    }
   },
   "outputs": [],
   "source": [
    "x.find(class_='raw__373c0__3rcx7').text"
   ]
  },
  {
   "cell_type": "code",
   "execution_count": null,
   "metadata": {
    "ExecuteTime": {
     "end_time": "2021-03-16T19:16:08.833167Z",
     "start_time": "2021-03-16T19:16:04.454371Z"
    }
   },
   "outputs": [],
   "source": [
    "resp = requests.get('https://www.yelp.com/biz/grey-cafe-flushing?adjust_creative=XCA5Kc7RlIdeGhJ7qoZSYA&utm_campaign=yelp_api_v3&utm_medium=api_v3_business_search&utm_source=XCA5Kc7RlIdeGhJ7qoZSYA')"
   ]
  },
  {
   "cell_type": "code",
   "execution_count": null,
   "metadata": {
    "ExecuteTime": {
     "end_time": "2021-03-16T19:16:09.652310Z",
     "start_time": "2021-03-16T19:16:09.372865Z"
    }
   },
   "outputs": [],
   "source": [
    "bs = BeautifulSoup(resp.content, 'html.parser')"
   ]
  },
  {
   "cell_type": "code",
   "execution_count": null,
   "metadata": {
    "ExecuteTime": {
     "end_time": "2021-03-16T19:18:13.681171Z",
     "start_time": "2021-03-16T19:18:13.618823Z"
    }
   },
   "outputs": [],
   "source": [
    "x = bs.findAll(class_='margin-b5__373c0__2ErL8')[2]"
   ]
  },
  {
   "cell_type": "code",
   "execution_count": null,
   "metadata": {
    "ExecuteTime": {
     "end_time": "2021-03-16T19:18:15.282148Z",
     "start_time": "2021-03-16T19:18:15.278853Z"
    },
    "scrolled": true
   },
   "outputs": [],
   "source": [
    "x.find(class_='css-n6i4z7').text"
   ]
  },
  {
   "cell_type": "code",
   "execution_count": null,
   "metadata": {
    "ExecuteTime": {
     "end_time": "2021-03-16T19:18:16.624255Z",
     "start_time": "2021-03-16T19:18:16.620376Z"
    }
   },
   "outputs": [],
   "source": [
    "x.find(class_='i-stars__373c0__1T6rz')['aria-label']"
   ]
  },
  {
   "cell_type": "code",
   "execution_count": null,
   "metadata": {
    "ExecuteTime": {
     "end_time": "2021-03-16T19:18:17.736406Z",
     "start_time": "2021-03-16T19:18:17.732766Z"
    }
   },
   "outputs": [],
   "source": [
    "x.find(class_='css-e81eai').text"
   ]
  },
  {
   "cell_type": "code",
   "execution_count": null,
   "metadata": {
    "ExecuteTime": {
     "end_time": "2021-03-16T19:18:19.110295Z",
     "start_time": "2021-03-16T19:18:19.107082Z"
    }
   },
   "outputs": [],
   "source": [
    "x.find(class_='raw__373c0__3rcx7').text"
   ]
  },
  {
   "cell_type": "code",
   "execution_count": null,
   "metadata": {},
   "outputs": [],
   "source": []
  }
 ],
 "metadata": {
  "kernelspec": {
   "display_name": "learn-env",
   "language": "python",
   "name": "learn-env"
  },
  "language_info": {
   "codemirror_mode": {
    "name": "ipython",
    "version": 3
   },
   "file_extension": ".py",
   "mimetype": "text/x-python",
   "name": "python",
   "nbconvert_exporter": "python",
   "pygments_lexer": "ipython3",
   "version": "3.8.5"
  },
  "toc": {
   "base_numbering": 1,
   "nav_menu": {},
   "number_sections": true,
   "sideBar": true,
   "skip_h1_title": false,
   "title_cell": "Table of Contents",
   "title_sidebar": "Contents",
   "toc_cell": false,
   "toc_position": {},
   "toc_section_display": true,
   "toc_window_display": false
  },
  "varInspector": {
   "cols": {
    "lenName": 16,
    "lenType": 16,
    "lenVar": 40
   },
   "kernels_config": {
    "python": {
     "delete_cmd_postfix": "",
     "delete_cmd_prefix": "del ",
     "library": "var_list.py",
     "varRefreshCmd": "print(var_dic_list())"
    },
    "r": {
     "delete_cmd_postfix": ") ",
     "delete_cmd_prefix": "rm(",
     "library": "var_list.r",
     "varRefreshCmd": "cat(var_dic_list()) "
    }
   },
   "types_to_exclude": [
    "module",
    "function",
    "builtin_function_or_method",
    "instance",
    "_Feature"
   ],
   "window_display": false
  }
 },
 "nbformat": 4,
 "nbformat_minor": 4
}
